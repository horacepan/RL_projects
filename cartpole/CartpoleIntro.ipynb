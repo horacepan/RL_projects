{
 "cells": [
  {
   "cell_type": "code",
   "execution_count": 81,
   "metadata": {},
   "outputs": [],
   "source": [
    "import numpy as np\n",
    "import gym\n",
    "import matplotlib.pyplot as plt\n",
    "%matplotlib inline"
   ]
  },
  {
   "cell_type": "markdown",
   "metadata": {},
   "source": [
    "# Markov Decision Processes\n",
    "A [Markov Decision Process](https://en.wikipedia.org/wiki/Markov_decision_process) is formally a 5-tuple $(S, A, P, R, \\gamma)$. In the following, we denote $s_t$ as the state at time $t$, $a_t$ the action taken at time $t$.\n",
    "* $S$: the state space\n",
    "\n",
    "* $A$: the action space, or set of actions you are allowed to take\n",
    "\n",
    "* $P$: a probability distribution over $S \\times S \\times A$\n",
    "$$P(s, s', a) = Prob(s_{t+1} = s' | s_t = s, a_t = a)$$\n",
    "\n",
    "* $R$: the reward function. Formally you can think of $R$ as a function from $S \\times A$ to the reals.\n",
    "$$R(s_t, a_t) = \\text{the reward you get from taking action $a_t$ at state $s_t$}$$\n",
    "\n",
    "* $\\gamma$: the discount factor which tells you how much to weigh future rewards versus present rewards. For now, we'll ignore this.\n",
    "\n",
    "\n",
    "Whenever you have a problem that can be formalized as an MDP you are generally interested in finding a **policy** that will maximize your long term reward. We will formalize this later on, but here are some examples of things that can be formalized as MDPS:\n",
    "* chess: The reward in these can be modeled as 0 if the game has not yet terminated, -1 if your action leads to you losing the game in your opponents next move, +1 if your action leads to a win in the next move. Note that you can also use a different reward function here, where your reward is equal to the point value of the piece you just captured (0 if no capture), but this can lead to myopic policies that are good at taking pieces while losing you the game.\n",
    "\n",
    "* breakout: Here the state space is the configuration of bricks present. The action space is just [move paddle left, move paddle right]. The reward function might be the number of bricks broken or the number of game frames that the ball spends aloft.\n",
    "\n",
    "\n",
    "From these two basic examples of MDP's, we can see that we'll often have a predetermined state /action space and a fixed transition probability function(well in chess, the transition depends on your opponent). The reward function, however, is something that you can play around with. In the next section we'll see an example the Cartpole problem which is a classic control task that can be modeled as an MDP and thus solved with **reinforcement learning** techniques."
   ]
  },
  {
   "cell_type": "markdown",
   "metadata": {},
   "source": [
    "# The Cart Pole Environment\n",
    "In the Cartpole problem we have a pole that is attached to a cart. The goal is to keep the pole balanced for as long as possible. Given some initial unbalanced configuration of pole on the cart, you'll have to move the cart to the left or to the right to keep the pole from falling over."
   ]
  },
  {
   "cell_type": "code",
   "execution_count": 18,
   "metadata": {},
   "outputs": [
    {
     "name": "stdout",
     "output_type": "stream",
     "text": [
      "\u001b[33mWARN: gym.spaces.Box autodetected dtype as <class 'numpy.float32'>. Please provide explicit dtype.\u001b[0m\n"
     ]
    }
   ],
   "source": [
    "env = gym.make('CartPole-v0')\n",
    "env.reset()\n",
    "rgb = env.render(mode='rgb_array')\n",
    "env.close()"
   ]
  },
  {
   "cell_type": "code",
   "execution_count": 25,
   "metadata": {},
   "outputs": [
    {
     "data": {
      "text/plain": [
       "<matplotlib.image.AxesImage at 0x11bf81c18>"
      ]
     },
     "execution_count": 25,
     "metadata": {},
     "output_type": "execute_result"
    },
    {
     "data": {
      "image/png": "[encoded data removed]",
      "text/plain": [
       "<Figure size 432x288 with 1 Axes>"
      ]
     },
     "metadata": {},
     "output_type": "display_data"
    }
   ],
   "source": [
    "plt.imshow(rgb)"
   ]
  },
  {
   "cell_type": "markdown",
   "metadata": {},
   "source": [
    "## Cartpole State/Action Space/Reward\n",
    "The cartpole states are parameterized by 4 real numbers. I think two of them correspond to angles and the other two correspond to something like distance from origin? But I'm not entirely sure."
   ]
  },
  {
   "cell_type": "code",
   "execution_count": 24,
   "metadata": {},
   "outputs": [
    {
     "name": "stdout",
     "output_type": "stream",
     "text": [
      "State(aka observation) space: Box(4,)\n",
      "Action space: Discrete(2)\n"
     ]
    }
   ],
   "source": [
    "print(\"State(aka observation) space: {}\".format(env.observation_space))\n",
    "print(\"Action space: {}\".format(env.action_space))"
   ]
  },
  {
   "cell_type": "markdown",
   "metadata": {},
   "source": [
    "Box is a class defined in gym.spaces.box. It is generally used  to represents a vector in $R_n$. In the Cartpole environment, the observation(or state) space is just $R^4$.\n",
    "\n",
    "The action space is just $\\{0, 1 \\}$. This corresponds to moving the cart left or right.\n",
    "\n",
    "The reward is +1 if the pole is still up after taking the given action and 0 if the pole falls over."
   ]
  },
  {
   "cell_type": "markdown",
   "metadata": {},
   "source": [
    "## \"Winning\" the Cartpole Environment\n",
    "We say that the cartpole problem is \"solved\" when we have found a policy that can keep the pole up for more than 195 timesteps. This is admittedly fairly arbitrary, but for our purposes, it's good enough.'"
   ]
  },
  {
   "cell_type": "markdown",
   "metadata": {},
   "source": [
    "# A Linear Decision Model\n",
    "This problem of keeping the pole up can be reduced to a pseudo-supervised classification problem. The most naive thing we can try to do is to make a linear decision function of the flavor:\n",
    "$$\n",
    "f_{w, b}(x)= \n",
    "\\begin{cases}\n",
    "    0,& w^T s_t + b \\geq 0\\\\\n",
    "    1,              & \\text{otherwise}\n",
    "\\end{cases}$$\n",
    "where $x \\in \\mathbb{R}^4$ is your state vector , $w \\in \\mathbb{R}^4, b \\in \\mathbb{R}$. The problem with this is that this doesn't quite fit in the classic supervised learning framework. There is no \"ground truth\" label to predict here."
   ]
  },
  {
   "cell_type": "markdown",
   "metadata": {},
   "source": [
    "# Cross Entropy\n",
    "We can still get a notion of \"good\" values for $w$ and $b$ based on how good this decision function $f_{w, b}$ is in practice. So use $f_{w, b}$ to determine which action to take at each time step and then look the total reward that this policy produces(ie: how long does a pole stay upright if we use this function to determine whether to move left or right at each time step). This notion of \"quality\" can then guide us in what $w$ and $b$ to use.\n",
    "\n",
    "The [Cross Entropy Method](https://en.wikipedia.org/wiki/Cross-entropy_method) broadly be seen as a sort of evolutionary method for optimization. We want to find a weight vector $w \\in \\mathbb{R}^4$, bias term $b \\in \\mathbb{R}$ so that the decision function $f_{w, b}$ can lead to high long term rewards. Broadly speaking, the CEM consists of repeating the following three steps:\n",
    "a) generating a random sample of candidate variables(in our case it will be the $w$ and $b$s) according to some distribution\n",
    "b) evaluating each sample's \"fitness\"(total reward)\n",
    "c) keeping the top K candidate variables with highest \"fitness\" and update the sampling procedure with these top K values to get a better performing sample in the next iteration.\n",
    "\n",
    "We'll model $w$ and $b$ as random variables drawn from a normal distribution with unknown mean $\\mu$ and variance $\\sigma^2$. Note that we can think of the $[w, b]$ as a vector in $\\mathbb{R}^5$. So to save on typing, I'll refer to\n",
    "the combination of $w$ and $b$ being drawn from a 5-dimensional multivariate normal distribution.\n",
    "\n",
    "The process for learning these $w$ and $b$ values is as follows:\n",
    "1. Start with $\\mu = [0,0,0, 0, 0]$, $\\sigma=1$. This initialization is a bit arbitrary. You can use a different initialization if you'd like.\n",
    "2. generate random batch of say 50 $w$ and $b$ values according to $\\mathcal{N}(\\mu, \\sigma^2)$\n",
    "3. For each sample of $w$ and $b$, run the policy that function $f_{w, b}$ induces. Keep track of the reward each function produced.\n",
    "4. Keep the top ten or so $w, b$ values (as defined by the total reward that their corresponding $f_{w, b}$ functions attained)\n",
    "5. Update $\\mu$ and $\\sigma$ with the mean and standard dev of the top 10 $w$ and $b$ values found in the previous step\n",
    "6. Go back to step 2.\n",
    "\n",
    "This process is repeated until the $w$ and $b$ values that are sampled produce a good enough policy. "
   ]
  },
  {
   "cell_type": "code",
   "execution_count": 70,
   "metadata": {
    "collapsed": true
   },
   "outputs": [],
   "source": [
    "def get_action(observation, weights):\n",
    "    '''\n",
    "    observation: length 4 array\n",
    "    weights: length 5 array(bias term is included here)\n",
    "    This computes the f_{w, b} decision function described above\n",
    "    '''\n",
    "    w = weights[:-1]\n",
    "    b = weights[-1]\n",
    "    if w.dot(observation) + b > 0:\n",
    "        return 1\n",
    "    else:\n",
    "        return 0"
   ]
  },
  {
   "cell_type": "code",
   "execution_count": 71,
   "metadata": {
    "collapsed": true
   },
   "outputs": [],
   "source": [
    "def run(env, weight, max_steps):\n",
    "    '''\n",
    "    This function uses the given weight(aka w and b in the writeup above)\n",
    "    as the policy for determining actions\n",
    "    env: gym environment\n",
    "    weight: 5-dim numpy array\n",
    "    max_steps: maximum number of time steps to run the environment for\n",
    "    '''\n",
    "    obs = env.reset()\n",
    "    total_reward = 0\n",
    "    for i in range(max_steps):\n",
    "        action = get_action(obs, weight)\n",
    "        obs, reward, done, _ = env.step(action)\n",
    "        total_reward += reward\n",
    "        if done:\n",
    "            break\n",
    "    num_steps = i\n",
    "    \n",
    "    return total_reward"
   ]
  },
  {
   "cell_type": "code",
   "execution_count": 80,
   "metadata": {},
   "outputs": [
    {
     "name": "stdout",
     "output_type": "stream",
     "text": [
      "Batch 0 (episodes 0-50) | Batch avg: 24.40 | Running avg 24.40\n",
      "Batch 1 (episodes 50-100) | Batch avg: 49.54 | Running avg 36.97\n",
      "Batch 2 (episodes 100-150) | Batch avg: 68.62 | Running avg 47.52\n",
      "Batch 3 (episodes 150-200) | Batch avg: 90.30 | Running avg 58.22\n",
      "Batch 4 (episodes 200-250) | Batch avg: 120.64 | Running avg 70.70\n",
      "Batch 5 (episodes 250-300) | Batch avg: 143.74 | Running avg 82.87\n",
      "Batch 6 (episodes 300-350) | Batch avg: 176.88 | Running avg 96.30\n",
      "Batch 7 (episodes 350-400) | Batch avg: 170.56 | Running avg 105.58\n",
      "Batch 8 (episodes 400-450) | Batch avg: 181.04 | Running avg 113.97\n",
      "Batch 9 (episodes 450-500) | Batch avg: 189.72 | Running avg 121.54\n",
      "Batch 10 (episodes 500-550) | Batch avg: 188.58 | Running avg 127.64\n",
      "Batch 11 (episodes 550-600) | Batch avg: 198.20 | Running avg 133.52\n",
      "Done! Last 50 steps have an average total reward of 198.20\n"
     ]
    }
   ],
   "source": [
    "env.reset()\n",
    "\n",
    "# w will \n",
    "max_rollouts = 100\n",
    "batch_size = 50\n",
    "reward_history = []\n",
    "weight_mean = np.random.normal(0, 1, size=5)\n",
    "weight_std = 1\n",
    "max_steps = 300\n",
    "\n",
    "for e in range(max_rollouts):\n",
    "    # sampling form N(mu, sigma^2) is the same as sampling from mu + sigma * N(0, 1)\n",
    "    w_samples = np.ones((batch_size, 1)) * weight_mean + \\\n",
    "                weight_std * np.random.normal(0, 1, (batch_size, 5))\n",
    "        \n",
    "    # This gives us a list of tuples of (total reward generated, weight vector)\n",
    "    rollout_results = [(run(env, w, max_steps), w) for w in w_samples]\n",
    "    \n",
    "    # sort the results based on the total reward\n",
    "    sorted_results = sorted(rollout_results, key=lambda x: x[0], reverse=True)\n",
    "\n",
    "    # unzip the list of tuples\n",
    "    steps, weights = [list(i) for i in zip(*sorted_results)]\n",
    "    \n",
    "    # update the mean/std of the normal distribution\n",
    "    weight_mean = np.mean(weights[:10], axis=0)\n",
    "    weight_std = np.std(weights[:10], axis=0)\n",
    "    reward_history.extend(steps)\n",
    "    \n",
    "    print(\"Batch {} (episodes {}-{}) | Batch avg: {:.2f} | Running avg {:.2f}\".format(e, e * batch_size, (e+1) * batch_size, np.mean(steps), np.mean(reward_history)))\n",
    "    if np.mean(reward_history[-50:]) > 195:\n",
    "        print(\"Done! Last 50 steps have an average total reward of {:.2f}\".format(np.mean(reward_history[-50:])))\n",
    "        break"
   ]
  },
  {
   "cell_type": "code",
   "execution_count": null,
   "metadata": {
    "collapsed": true
   },
   "outputs": [],
   "source": []
  }
 ],
 "metadata": {
  "kernelspec": {
   "display_name": "Python 3(env)",
   "language": "python",
   "name": "envname"
  },
  "language_info": {
   "codemirror_mode": {
    "name": "ipython",
    "version": 3
   },
   "file_extension": ".py",
   "mimetype": "text/x-python",
   "name": "python",
   "nbconvert_exporter": "python",
   "pygments_lexer": "ipython3",
   "version": "3.5.5"
  }
 },
 "nbformat": 4,
 "nbformat_minor": 2
}
